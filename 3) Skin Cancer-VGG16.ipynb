{
 "cells": [
  {
   "cell_type": "code",
   "execution_count": 1,
   "id": "231a113c",
   "metadata": {
    "scrolled": false
   },
   "outputs": [],
   "source": [
    "import pandas as pd\n",
    "import numpy as np\n",
    "import seaborn as sns\n",
    "import matplotlib.pyplot as plt\n",
    "import os\n",
    "import shutil\n",
    "from tensorflow.keras.preprocessing.image import ImageDataGenerator\n",
    "import glob\n",
    "import tensorflow as tf\n",
    "from tensorflow import keras\n",
    "import random\n",
    "from tensorflow.keras.optimizers import RMSprop\n",
    "from sklearn.preprocessing import OneHotEncoder\n",
    "from tensorflow.keras.layers import BatchNormalization\n",
    "from sklearn import preprocessing\n",
    "from keras.preprocessing import image\n",
    "from tensorflow.keras.preprocessing.image import ImageDataGenerator\n",
    "from sklearn.preprocessing import StandardScaler\n",
    "from keras.utils.np_utils import to_categorical\n",
    "from sklearn.model_selection import train_test_split\n",
    "from tensorflow.keras.optimizers import RMSprop, Adam\n",
    "from tensorflow.keras.models import Sequential, Model\n",
    "from keras.layers import Dense, Dropout, Flatten, Conv2D, MaxPool2D, BatchNormalization, MaxPooling2D, \\\n",
    "    Permute, TimeDistributed, Bidirectional, GRU, SimpleRNN, LSTM, GlobalAveragePooling2D, SeparableConv2D\n",
    "from keras.applications.vgg16 import VGG16"
   ]
  },
  {
   "cell_type": "code",
   "execution_count": 2,
   "id": "d60bdf81",
   "metadata": {},
   "outputs": [],
   "source": [
    "metadata_file = \"C:/Extra project/Skin Cancer/HAM10000_metadata.csv\"\n",
    "cancer = pd.read_csv(metadata_file)"
   ]
  },
  {
   "cell_type": "code",
   "execution_count": 3,
   "id": "9e39ed68",
   "metadata": {},
   "outputs": [],
   "source": [
    "cancer[\"path\"] = \"\"\n",
    "image_paths = []\n",
    "for part in (\"part_1\", \"part_2\"):\n",
    "    image_paths += glob.glob(\"C:/Extra project/Skin Cancer/HAM10000_images_\" + part + \"/*\")\n",
    "image_ids_n_paths = {os.path.splitext(os.path.basename(path))[0]: path for path in image_paths}\n",
    "cancer['path'] = cancer['image_id'].map(image_ids_n_paths)\n",
    "vgg16 = VGG16(weights='imagenet', include_top=False, input_shape=(224, 224, 3))"
   ]
  },
  {
   "cell_type": "code",
   "execution_count": 4,
   "id": "1244e759",
   "metadata": {},
   "outputs": [],
   "source": [
    "for layer in vgg16.layers:\n",
    "    layer.trainable = False"
   ]
  },
  {
   "cell_type": "code",
   "execution_count": 5,
   "id": "610dd2c0",
   "metadata": {},
   "outputs": [],
   "source": [
    "x = Flatten()(vgg16.output)\n",
    "x = Dense(256, activation='relu')(x)\n",
    "x = Dropout(0.5)(x)\n",
    "predictions = Dense(7, activation='softmax')(x)  # Update the number of units to match the number of classes in your dataset"
   ]
  },
  {
   "cell_type": "code",
   "execution_count": 6,
   "id": "9376fa0d",
   "metadata": {},
   "outputs": [],
   "source": [
    "model = Model(inputs=vgg16.input, outputs=predictions)\n",
    "\n",
    "train_datagen = ImageDataGenerator(\n",
    "    rescale=1./255,\n",
    "    shear_range=0.2,\n",
    "    zoom_range=0.2,\n",
    "    horizontal_flip=True,\n",
    "    validation_split=0.2\n",
    ")"
   ]
  },
  {
   "cell_type": "code",
   "execution_count": 7,
   "id": "6f8ae16e",
   "metadata": {},
   "outputs": [],
   "source": [
    "train_data, test_val_data = train_test_split(cancer, test_size=0.3, random_state=42)\n",
    "test_data, val_data = train_test_split(test_val_data, test_size=0.5, random_state=42)"
   ]
  },
  {
   "cell_type": "code",
   "execution_count": 8,
   "id": "8edb02f3",
   "metadata": {},
   "outputs": [
    {
     "name": "stdout",
     "output_type": "stream",
     "text": [
      "Found 7010 validated image filenames belonging to 7 classes.\n",
      "Found 1502 validated image filenames belonging to 7 classes.\n",
      "Found 1503 validated image filenames belonging to 7 classes.\n"
     ]
    }
   ],
   "source": [
    "train_generator = train_datagen.flow_from_dataframe(\n",
    "    dataframe=train_data,\n",
    "    directory=None,\n",
    "    x_col=\"path\",\n",
    "    y_col=\"dx\",\n",
    "    target_size=(224, 224),\n",
    "    class_mode=\"categorical\",\n",
    "    batch_size=32,\n",
    "    shuffle=True\n",
    ")\n",
    "\n",
    "test_val_generator = ImageDataGenerator(rescale=1./255)\n",
    "\n",
    "test_generator = test_val_generator.flow_from_dataframe(\n",
    "    dataframe=test_data,\n",
    "    directory=None,\n",
    "    x_col=\"path\",\n",
    "    y_col=\"dx\",\n",
    "    target_size=(224, 224),\n",
    "    class_mode=\"categorical\",\n",
    "    batch_size=32,\n",
    "    shuffle=False\n",
    ")\n",
    "\n",
    "val_generator = test_val_generator.flow_from_dataframe(\n",
    "    dataframe=val_data,\n",
    "    directory=None,\n",
    "    x_col=\"path\",\n",
    "    y_col=\"dx\",\n",
    "    target_size=(224, 224),\n",
    "    class_mode=\"categorical\",\n",
    "    batch_size=32,\n",
    "    shuffle=False\n",
    ")"
   ]
  },
  {
   "cell_type": "code",
   "execution_count": 9,
   "id": "8dcff347",
   "metadata": {},
   "outputs": [],
   "source": [
    "model.compile(optimizer=Adam(), loss='categorical_crossentropy', metrics=['accuracy'])"
   ]
  },
  {
   "cell_type": "code",
   "execution_count": 10,
   "id": "69e8711b",
   "metadata": {},
   "outputs": [],
   "source": [
    "callbacks = [tf.keras.callbacks.EarlyStopping(monitor=\"val_loss\", patience=5, mode=\"min\"),\n",
    "             tf.keras.callbacks.ModelCheckpoint(monitor=\"val_accuracy\", save_best_only=True, filepath=\"./my_model\") ]"
   ]
  },
  {
   "cell_type": "code",
   "execution_count": 12,
   "id": "f6ccccea",
   "metadata": {},
   "outputs": [
    {
     "name": "stdout",
     "output_type": "stream",
     "text": [
      "Epoch 1/10\n",
      "220/220 [==============================] - ETA: 0s - loss: 1.1539 - accuracy: 0.6609INFO:tensorflow:Assets written to: .\\my_model\\assets\n",
      "220/220 [==============================] - 1280s 6s/step - loss: 1.1539 - accuracy: 0.6609 - val_loss: 0.9262 - val_accuracy: 0.6873\n",
      "Epoch 2/10\n",
      "220/220 [==============================] - 1522s 7s/step - loss: 1.0004 - accuracy: 0.6748 - val_loss: 0.8879 - val_accuracy: 0.6780\n",
      "Epoch 3/10\n",
      "220/220 [==============================] - 1411s 6s/step - loss: 0.9439 - accuracy: 0.6740 - val_loss: 0.8716 - val_accuracy: 0.6667\n",
      "Epoch 4/10\n",
      "220/220 [==============================] - 1262s 6s/step - loss: 0.9493 - accuracy: 0.6796 - val_loss: 0.8727 - val_accuracy: 0.6640\n",
      "Epoch 5/10\n",
      "220/220 [==============================] - 1468s 7s/step - loss: 0.9245 - accuracy: 0.6775 - val_loss: 0.8417 - val_accuracy: 0.6753\n",
      "Epoch 6/10\n",
      "220/220 [==============================] - 1499s 7s/step - loss: 0.9091 - accuracy: 0.6860 - val_loss: 0.8438 - val_accuracy: 0.6786\n",
      "Epoch 7/10\n",
      "220/220 [==============================] - 1705s 8s/step - loss: 0.8906 - accuracy: 0.6852 - val_loss: 0.8513 - val_accuracy: 0.6653\n",
      "Epoch 8/10\n",
      "220/220 [==============================] - 1399s 6s/step - loss: 0.9053 - accuracy: 0.6806 - val_loss: 0.8426 - val_accuracy: 0.6620\n",
      "Epoch 9/10\n",
      "220/220 [==============================] - 1230s 6s/step - loss: 0.8986 - accuracy: 0.6827 - val_loss: 0.8257 - val_accuracy: 0.6860\n",
      "Epoch 10/10\n",
      "220/220 [==============================] - ETA: 0s - loss: 0.8839 - accuracy: 0.6830INFO:tensorflow:Assets written to: .\\my_model\\assets\n",
      "220/220 [==============================] - 1204s 5s/step - loss: 0.8839 - accuracy: 0.6830 - val_loss: 0.8260 - val_accuracy: 0.6893\n"
     ]
    }
   ],
   "source": [
    "history = model.fit(\n",
    "    train_generator,\n",
    "    epochs=10,\n",
    "    validation_data=val_generator,\n",
    "    callbacks=callbacks\n",
    ")"
   ]
  },
  {
   "cell_type": "code",
   "execution_count": 13,
   "id": "740045d0",
   "metadata": {},
   "outputs": [
    {
     "name": "stdout",
     "output_type": "stream",
     "text": [
      "47/47 [==============================] - 340s 7s/step - loss: 0.8182 - accuracy: 0.6931\n",
      "Test Loss: 0.8182117938995361\n",
      "Test Accuracy: 0.6930758953094482\n"
     ]
    }
   ],
   "source": [
    "test_loss, test_accuracy = model.evaluate(test_generator)\n",
    "print('Test Loss:', test_loss)\n",
    "print('Test Accuracy:', test_accuracy)"
   ]
  },
  {
   "cell_type": "code",
   "execution_count": 14,
   "id": "728e43ac",
   "metadata": {},
   "outputs": [
    {
     "data": {
      "text/plain": [
       "<AxesSubplot:>"
      ]
     },
     "execution_count": 14,
     "metadata": {},
     "output_type": "execute_result"
    },
    {
     "data": {
      "image/png": "[encoded data removed]",
      "text/plain": [
       "<Figure size 432x288 with 1 Axes>"
      ]
     },
     "metadata": {
      "needs_background": "light"
     },
     "output_type": "display_data"
    }
   ],
   "source": [
    "plot_VGG16 = pd.DataFrame(history.history)\n",
    "plot_VGG16.plot()"
   ]
  },
  {
   "cell_type": "code",
   "execution_count": null,
   "id": "130bbe2b",
   "metadata": {},
   "outputs": [],
   "source": []
  }
 ],
 "metadata": {
  "kernelspec": {
   "display_name": "Python 3 (ipykernel)",
   "language": "python",
   "name": "python3"
  },
  "language_info": {
   "codemirror_mode": {
    "name": "ipython",
    "version": 3
   },
   "file_extension": ".py",
   "mimetype": "text/x-python",
   "name": "python",
   "nbconvert_exporter": "python",
   "pygments_lexer": "ipython3",
   "version": "3.9.7"
  }
 },
 "nbformat": 4,
 "nbformat_minor": 5
}
