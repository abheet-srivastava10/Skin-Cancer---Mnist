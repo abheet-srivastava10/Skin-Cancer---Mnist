{
 "cells": [
  {
   "cell_type": "code",
   "execution_count": 12,
   "id": "c58d37e8",
   "metadata": {},
   "outputs": [],
   "source": [
    "import pandas as pd\n",
    "import numpy as np\n",
    "import seaborn as sns\n",
    "import matplotlib.pyplot as plt\n",
    "import os\n",
    "import shutil\n",
    "import glob\n",
    "import tensorflow as tf\n",
    "import random\n",
    "from sklearn.model_selection import train_test_split\n",
    "from sklearn.preprocessing import OneHotEncoder, StandardScaler\n",
    "from keras.utils.np_utils import to_categorical\n",
    "from keras.preprocessing import image\n",
    "from tensorflow.keras.optimizers import RMSprop, Adam\n",
    "from tensorflow.keras.models import Sequential, Model\n",
    "from tensorflow.keras.layers import Dense, Dropout, Flatten, Conv2D, MaxPool2D, BatchNormalization, MaxPooling2D, \\\n",
    "    Permute, TimeDistributed, Bidirectional, GRU, SimpleRNN, LSTM, GlobalAveragePooling2D, SeparableConv2D\n",
    "from tensorflow.keras.applications.vgg19 import VGG19\n",
    "from tensorflow.keras.preprocessing.image import ImageDataGenerator"
   ]
  },
  {
   "cell_type": "code",
   "execution_count": 2,
   "id": "fe2ff203",
   "metadata": {},
   "outputs": [],
   "source": [
    "metadata_file = \"C:/Extra project/Skin Cancer/HAM10000_metadata.csv\"\n",
    "cancer = pd.read_csv(metadata_file)"
   ]
  },
  {
   "cell_type": "code",
   "execution_count": 3,
   "id": "f83fd1c1",
   "metadata": {},
   "outputs": [],
   "source": [
    "cancer[\"path\"] = \"\"\n",
    "image_paths = []\n",
    "for part in (\"part_1\", \"part_2\"):\n",
    "    image_paths += glob.glob(\"C:/Extra project/Skin Cancer/HAM10000_images_\" + part + \"/*\")\n",
    "image_ids_n_paths = {os.path.splitext(os.path.basename(path))[0]: path for path in image_paths}\n",
    "cancer['path'] = cancer['image_id'].map(image_ids_n_paths)\n",
    "vgg19 = VGG19(weights='imagenet', include_top=False, input_shape=(224, 224, 3))"
   ]
  },
  {
   "cell_type": "code",
   "execution_count": 4,
   "id": "b7118dfa",
   "metadata": {},
   "outputs": [],
   "source": [
    "for layer in vgg19.layers:\n",
    "    layer.trainable = False"
   ]
  },
  {
   "cell_type": "code",
   "execution_count": 5,
   "id": "8a4cea12",
   "metadata": {},
   "outputs": [],
   "source": [
    "x = Flatten()(vgg19.output)\n",
    "x = Dense(256, activation='relu')(x)\n",
    "x = Dropout(0.5)(x)\n",
    "predictions = Dense(7, activation='softmax')(x)  # Update the number of units to match the number of classes in your dataset"
   ]
  },
  {
   "cell_type": "code",
   "execution_count": 6,
   "id": "c149de82",
   "metadata": {},
   "outputs": [],
   "source": [
    "model = Model(inputs=vgg19.input, outputs=predictions)"
   ]
  },
  {
   "cell_type": "code",
   "execution_count": 7,
   "id": "fecd88ea",
   "metadata": {},
   "outputs": [],
   "source": [
    "train_datagen = ImageDataGenerator(\n",
    "    rescale=1./255,\n",
    "    shear_range=0.2,\n",
    "    zoom_range=0.2,\n",
    "    horizontal_flip=True,\n",
    "    validation_split=0.2\n",
    ")"
   ]
  },
  {
   "cell_type": "code",
   "execution_count": 8,
   "id": "2023d30c",
   "metadata": {},
   "outputs": [],
   "source": [
    "train_data, test_val_data = train_test_split(cancer, test_size=0.3, random_state=42)\n",
    "test_data, val_data = train_test_split(test_val_data, test_size=0.5, random_state=42)"
   ]
  },
  {
   "cell_type": "code",
   "execution_count": 9,
   "id": "deb279c5",
   "metadata": {},
   "outputs": [
    {
     "name": "stdout",
     "output_type": "stream",
     "text": [
      "Found 7010 validated image filenames belonging to 7 classes.\n",
      "Found 1502 validated image filenames belonging to 7 classes.\n",
      "Found 1503 validated image filenames belonging to 7 classes.\n"
     ]
    }
   ],
   "source": [
    "train_generator = train_datagen.flow_from_dataframe(\n",
    "    dataframe=train_data,\n",
    "    directory=None,\n",
    "    x_col=\"path\",\n",
    "    y_col=\"dx\",\n",
    "    target_size=(224, 224),\n",
    "    class_mode=\"categorical\",\n",
    "    batch_size=32,\n",
    "    shuffle=True\n",
    ")\n",
    "\n",
    "test_val_generator = ImageDataGenerator(rescale=1./255)\n",
    "\n",
    "test_generator = test_val_generator.flow_from_dataframe(\n",
    "    dataframe=test_data,\n",
    "    directory=None,\n",
    "    x_col=\"path\",\n",
    "    y_col=\"dx\",\n",
    "    target_size=(224, 224),\n",
    "    class_mode=\"categorical\",\n",
    "    batch_size=32,\n",
    "    shuffle=False\n",
    ")\n",
    "\n",
    "val_generator = test_val_generator.flow_from_dataframe(\n",
    "    dataframe=val_data,\n",
    "    directory=None,\n",
    "    x_col=\"path\",\n",
    "    y_col=\"dx\",\n",
    "    target_size=(224, 224),\n",
    "    class_mode=\"categorical\",\n",
    "    batch_size=32,\n",
    "    shuffle=False\n",
    ")"
   ]
  },
  {
   "cell_type": "code",
   "execution_count": 10,
   "id": "e7fcf82c",
   "metadata": {},
   "outputs": [],
   "source": [
    "model.compile(optimizer=Adam(), loss='categorical_crossentropy', metrics=['accuracy'])"
   ]
  },
  {
   "cell_type": "code",
   "execution_count": 13,
   "id": "744d9f81",
   "metadata": {},
   "outputs": [],
   "source": [
    "callbacks = [tf.keras.callbacks.EarlyStopping(monitor=\"accuracy\", patience=5, mode=\"min\"),\n",
    "             tf.keras.callbacks.ModelCheckpoint(monitor=\"val_accuracy\", save_best_only=True, filepath=\"./my_model\") ]"
   ]
  },
  {
   "cell_type": "code",
   "execution_count": 14,
   "id": "2d4658ef",
   "metadata": {},
   "outputs": [
    {
     "name": "stdout",
     "output_type": "stream",
     "text": [
      "Epoch 1/10\n",
      "220/220 [==============================] - ETA: 0s - loss: 1.2771 - accuracy: 0.6511INFO:tensorflow:Assets written to: .\\my_model\\assets\n",
      "220/220 [==============================] - 1206s 5s/step - loss: 1.2771 - accuracy: 0.6511 - val_loss: 0.9600 - val_accuracy: 0.6720\n",
      "Epoch 2/10\n",
      "220/220 [==============================] - 1189s 5s/step - loss: 1.0928 - accuracy: 0.6716 - val_loss: 0.9749 - val_accuracy: 0.6587\n",
      "Epoch 3/10\n",
      "220/220 [==============================] - 1189s 5s/step - loss: 1.0738 - accuracy: 0.6745 - val_loss: 1.0092 - val_accuracy: 0.6587\n",
      "Epoch 4/10\n",
      "220/220 [==============================] - 1201s 5s/step - loss: 1.0456 - accuracy: 0.6732 - val_loss: 0.9421 - val_accuracy: 0.6587\n",
      "Epoch 5/10\n",
      "220/220 [==============================] - 1252s 6s/step - loss: 1.0247 - accuracy: 0.6736 - val_loss: 0.9272 - val_accuracy: 0.6587\n",
      "Epoch 6/10\n",
      "220/220 [==============================] - 1189s 5s/step - loss: 1.0059 - accuracy: 0.6773 - val_loss: 0.9216 - val_accuracy: 0.6627\n"
     ]
    }
   ],
   "source": [
    "history = model.fit(\n",
    "    train_generator,\n",
    "    epochs=10,\n",
    "    validation_data=val_generator,\n",
    "    callbacks=callbacks\n",
    ")"
   ]
  },
  {
   "cell_type": "code",
   "execution_count": 15,
   "id": "64ded6af",
   "metadata": {},
   "outputs": [
    {
     "name": "stdout",
     "output_type": "stream",
     "text": [
      "47/47 [==============================] - 209s 4s/step - loss: 0.9004 - accuracy: 0.6751\n",
      "Test Loss: 0.900377631187439\n",
      "Test Accuracy: 0.6750998497009277\n"
     ]
    }
   ],
   "source": [
    "test_loss, test_accuracy = model.evaluate(test_generator)\n",
    "print('Test Loss:', test_loss)\n",
    "print('Test Accuracy:', test_accuracy)"
   ]
  },
  {
   "cell_type": "code",
   "execution_count": 16,
   "id": "d6b69c58",
   "metadata": {},
   "outputs": [
    {
     "data": {
      "text/plain": [
       "<AxesSubplot:>"
      ]
     },
     "execution_count": 16,
     "metadata": {},
     "output_type": "execute_result"
    },
    {
     "data": {
      "image/png": "[encoded data removed]",
      "text/plain": [
       "<Figure size 432x288 with 1 Axes>"
      ]
     },
     "metadata": {
      "needs_background": "light"
     },
     "output_type": "display_data"
    }
   ],
   "source": [
    "plot_VGG19 = pd.DataFrame(history.history)\n",
    "plot_VGG19.plot()"
   ]
  }
 ],
 "metadata": {
  "kernelspec": {
   "display_name": "Python 3 (ipykernel)",
   "language": "python",
   "name": "python3"
  },
  "language_info": {
   "codemirror_mode": {
    "name": "ipython",
    "version": 3
   },
   "file_extension": ".py",
   "mimetype": "text/x-python",
   "name": "python",
   "nbconvert_exporter": "python",
   "pygments_lexer": "ipython3",
   "version": "3.9.7"
  }
 },
 "nbformat": 4,
 "nbformat_minor": 5
}
